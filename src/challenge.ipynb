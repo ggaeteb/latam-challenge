{
 "cells": [
  {
   "cell_type": "markdown",
   "metadata": {},
   "source": [
    "En este archivo puedes escribir lo que estimes conveniente. Te recomendamos detallar tu solución y todas las suposiciones que estás considerando. Aquí puedes ejecutar las funciones que definiste en los otros archivos de la carpeta src, medir el tiempo, memoria, etc."
   ]
  },
  {
   "cell_type": "markdown",
   "metadata": {},
   "source": [
    "# Análisis y Configuración\n",
    "Como primera parte del desarrollo se procede a analizar la data y comparar con link de documentacion enviada (https://developer.x.com/en/docs/x-api/v1/data-dictionary/object-model/tweet) \n",
    "Obs: actualizar link de documentación oficial de twitter (No coinciden columnas de archivo json)"
   ]
  },
  {
   "cell_type": "markdown",
   "metadata": {
    "jp-MarkdownHeadingCollapsed": true
   },
   "source": [
    "## Cargar archivo json (modificar path segun corresponda)"
   ]
  },
  {
   "cell_type": "code",
   "execution_count": 1,
   "metadata": {},
   "outputs": [],
   "source": [
    "file_path = \"D:/GGB/Downloads/lan/farmers-protest-tweets-2021-2-4.json\""
   ]
  },
  {
   "cell_type": "markdown",
   "metadata": {
    "jp-MarkdownHeadingCollapsed": true
   },
   "source": [
    "## Mostrar las primeras filas archivo json"
   ]
  },
  {
   "cell_type": "code",
   "execution_count": 2,
   "metadata": {},
   "outputs": [
    {
     "data": {
      "text/html": [
       "<div>\n",
       "<style scoped>\n",
       "    .dataframe tbody tr th:only-of-type {\n",
       "        vertical-align: middle;\n",
       "    }\n",
       "\n",
       "    .dataframe tbody tr th {\n",
       "        vertical-align: top;\n",
       "    }\n",
       "\n",
       "    .dataframe thead th {\n",
       "        text-align: right;\n",
       "    }\n",
       "</style>\n",
       "<table border=\"1\" class=\"dataframe\">\n",
       "  <thead>\n",
       "    <tr style=\"text-align: right;\">\n",
       "      <th></th>\n",
       "      <th>url</th>\n",
       "      <th>date</th>\n",
       "      <th>content</th>\n",
       "      <th>renderedContent</th>\n",
       "      <th>id</th>\n",
       "      <th>user</th>\n",
       "      <th>outlinks</th>\n",
       "      <th>tcooutlinks</th>\n",
       "      <th>replyCount</th>\n",
       "      <th>retweetCount</th>\n",
       "      <th>...</th>\n",
       "      <th>quoteCount</th>\n",
       "      <th>conversationId</th>\n",
       "      <th>lang</th>\n",
       "      <th>source</th>\n",
       "      <th>sourceUrl</th>\n",
       "      <th>sourceLabel</th>\n",
       "      <th>media</th>\n",
       "      <th>retweetedTweet</th>\n",
       "      <th>quotedTweet</th>\n",
       "      <th>mentionedUsers</th>\n",
       "    </tr>\n",
       "  </thead>\n",
       "  <tbody>\n",
       "    <tr>\n",
       "      <th>0</th>\n",
       "      <td>https://twitter.com/ArjunSinghPanam/status/136...</td>\n",
       "      <td>2021-02-24 09:23:35+00:00</td>\n",
       "      <td>The world progresses while the Indian police a...</td>\n",
       "      <td>The world progresses while the Indian police a...</td>\n",
       "      <td>1364506249291784198</td>\n",
       "      <td>{'username': 'ArjunSinghPanam', 'displayname':...</td>\n",
       "      <td>[https://twitter.com/ravisinghka/status/136415...</td>\n",
       "      <td>[https://t.co/es3kn0IQAF]</td>\n",
       "      <td>0</td>\n",
       "      <td>0</td>\n",
       "      <td>...</td>\n",
       "      <td>0</td>\n",
       "      <td>1364506249291784198</td>\n",
       "      <td>en</td>\n",
       "      <td>&lt;a href=\"http://twitter.com/download/iphone\" r...</td>\n",
       "      <td>http://twitter.com/download/iphone</td>\n",
       "      <td>Twitter for iPhone</td>\n",
       "      <td>None</td>\n",
       "      <td>NaN</td>\n",
       "      <td>{'url': 'https://twitter.com/RaviSinghKA/statu...</td>\n",
       "      <td>[{'username': 'narendramodi', 'displayname': '...</td>\n",
       "    </tr>\n",
       "    <tr>\n",
       "      <th>1</th>\n",
       "      <td>https://twitter.com/PrdeepNain/status/13645062...</td>\n",
       "      <td>2021-02-24 09:23:32+00:00</td>\n",
       "      <td>#FarmersProtest \\n#ModiIgnoringFarmersDeaths \\...</td>\n",
       "      <td>#FarmersProtest \\n#ModiIgnoringFarmersDeaths \\...</td>\n",
       "      <td>1364506237451313155</td>\n",
       "      <td>{'username': 'PrdeepNain', 'displayname': 'Pra...</td>\n",
       "      <td>[]</td>\n",
       "      <td>[]</td>\n",
       "      <td>0</td>\n",
       "      <td>0</td>\n",
       "      <td>...</td>\n",
       "      <td>0</td>\n",
       "      <td>1364506237451313155</td>\n",
       "      <td>en</td>\n",
       "      <td>&lt;a href=\"http://twitter.com/download/android\" ...</td>\n",
       "      <td>http://twitter.com/download/android</td>\n",
       "      <td>Twitter for Android</td>\n",
       "      <td>[{'thumbnailUrl': 'https://pbs.twimg.com/ext_t...</td>\n",
       "      <td>NaN</td>\n",
       "      <td>None</td>\n",
       "      <td>[{'username': 'Kisanektamorcha', 'displayname'...</td>\n",
       "    </tr>\n",
       "    <tr>\n",
       "      <th>2</th>\n",
       "      <td>https://twitter.com/parmarmaninder/status/1364...</td>\n",
       "      <td>2021-02-24 09:23:22+00:00</td>\n",
       "      <td>ਪੈਟਰੋਲ ਦੀਆਂ ਕੀਮਤਾਂ ਨੂੰ ਮੱਦੇਨਜ਼ਰ ਰੱਖਦੇ ਹੋਏ \\nਮੇ...</td>\n",
       "      <td>ਪੈਟਰੋਲ ਦੀਆਂ ਕੀਮਤਾਂ ਨੂੰ ਮੱਦੇਨਜ਼ਰ ਰੱਖਦੇ ਹੋਏ \\nਮੇ...</td>\n",
       "      <td>1364506195453767680</td>\n",
       "      <td>{'username': 'parmarmaninder', 'displayname': ...</td>\n",
       "      <td>[]</td>\n",
       "      <td>[]</td>\n",
       "      <td>0</td>\n",
       "      <td>0</td>\n",
       "      <td>...</td>\n",
       "      <td>0</td>\n",
       "      <td>1364506195453767680</td>\n",
       "      <td>pa</td>\n",
       "      <td>&lt;a href=\"http://twitter.com/download/android\" ...</td>\n",
       "      <td>http://twitter.com/download/android</td>\n",
       "      <td>Twitter for Android</td>\n",
       "      <td>None</td>\n",
       "      <td>NaN</td>\n",
       "      <td>None</td>\n",
       "      <td>None</td>\n",
       "    </tr>\n",
       "    <tr>\n",
       "      <th>3</th>\n",
       "      <td>https://twitter.com/anmoldhaliwal/status/13645...</td>\n",
       "      <td>2021-02-24 09:23:16+00:00</td>\n",
       "      <td>@ReallySwara @rohini_sgh watch full video here...</td>\n",
       "      <td>@ReallySwara @rohini_sgh watch full video here...</td>\n",
       "      <td>1364506167226032128</td>\n",
       "      <td>{'username': 'anmoldhaliwal', 'displayname': '...</td>\n",
       "      <td>[https://youtu.be/-bUKumwq-J8]</td>\n",
       "      <td>[https://t.co/wBPNdJdB0n]</td>\n",
       "      <td>0</td>\n",
       "      <td>0</td>\n",
       "      <td>...</td>\n",
       "      <td>0</td>\n",
       "      <td>1364350947099484160</td>\n",
       "      <td>en</td>\n",
       "      <td>&lt;a href=\"https://mobile.twitter.com\" rel=\"nofo...</td>\n",
       "      <td>https://mobile.twitter.com</td>\n",
       "      <td>Twitter Web App</td>\n",
       "      <td>[{'thumbnailUrl': 'https://pbs.twimg.com/ext_t...</td>\n",
       "      <td>NaN</td>\n",
       "      <td>None</td>\n",
       "      <td>[{'username': 'ReallySwara', 'displayname': 'S...</td>\n",
       "    </tr>\n",
       "    <tr>\n",
       "      <th>4</th>\n",
       "      <td>https://twitter.com/KotiaPreet/status/13645061...</td>\n",
       "      <td>2021-02-24 09:23:10+00:00</td>\n",
       "      <td>#KisanEktaMorcha #FarmersProtest #NoFarmersNoF...</td>\n",
       "      <td>#KisanEktaMorcha #FarmersProtest #NoFarmersNoF...</td>\n",
       "      <td>1364506144002088963</td>\n",
       "      <td>{'username': 'KotiaPreet', 'displayname': 'Pre...</td>\n",
       "      <td>[]</td>\n",
       "      <td>[]</td>\n",
       "      <td>0</td>\n",
       "      <td>0</td>\n",
       "      <td>...</td>\n",
       "      <td>0</td>\n",
       "      <td>1364506144002088963</td>\n",
       "      <td>und</td>\n",
       "      <td>&lt;a href=\"http://twitter.com/download/iphone\" r...</td>\n",
       "      <td>http://twitter.com/download/iphone</td>\n",
       "      <td>Twitter for iPhone</td>\n",
       "      <td>[{'previewUrl': 'https://pbs.twimg.com/media/E...</td>\n",
       "      <td>NaN</td>\n",
       "      <td>None</td>\n",
       "      <td>None</td>\n",
       "    </tr>\n",
       "  </tbody>\n",
       "</table>\n",
       "<p>5 rows × 21 columns</p>\n",
       "</div>"
      ],
      "text/plain": [
       "                                                 url  \\\n",
       "0  https://twitter.com/ArjunSinghPanam/status/136...   \n",
       "1  https://twitter.com/PrdeepNain/status/13645062...   \n",
       "2  https://twitter.com/parmarmaninder/status/1364...   \n",
       "3  https://twitter.com/anmoldhaliwal/status/13645...   \n",
       "4  https://twitter.com/KotiaPreet/status/13645061...   \n",
       "\n",
       "                       date  \\\n",
       "0 2021-02-24 09:23:35+00:00   \n",
       "1 2021-02-24 09:23:32+00:00   \n",
       "2 2021-02-24 09:23:22+00:00   \n",
       "3 2021-02-24 09:23:16+00:00   \n",
       "4 2021-02-24 09:23:10+00:00   \n",
       "\n",
       "                                             content  \\\n",
       "0  The world progresses while the Indian police a...   \n",
       "1  #FarmersProtest \\n#ModiIgnoringFarmersDeaths \\...   \n",
       "2  ਪੈਟਰੋਲ ਦੀਆਂ ਕੀਮਤਾਂ ਨੂੰ ਮੱਦੇਨਜ਼ਰ ਰੱਖਦੇ ਹੋਏ \\nਮੇ...   \n",
       "3  @ReallySwara @rohini_sgh watch full video here...   \n",
       "4  #KisanEktaMorcha #FarmersProtest #NoFarmersNoF...   \n",
       "\n",
       "                                     renderedContent                   id  \\\n",
       "0  The world progresses while the Indian police a...  1364506249291784198   \n",
       "1  #FarmersProtest \\n#ModiIgnoringFarmersDeaths \\...  1364506237451313155   \n",
       "2  ਪੈਟਰੋਲ ਦੀਆਂ ਕੀਮਤਾਂ ਨੂੰ ਮੱਦੇਨਜ਼ਰ ਰੱਖਦੇ ਹੋਏ \\nਮੇ...  1364506195453767680   \n",
       "3  @ReallySwara @rohini_sgh watch full video here...  1364506167226032128   \n",
       "4  #KisanEktaMorcha #FarmersProtest #NoFarmersNoF...  1364506144002088963   \n",
       "\n",
       "                                                user  \\\n",
       "0  {'username': 'ArjunSinghPanam', 'displayname':...   \n",
       "1  {'username': 'PrdeepNain', 'displayname': 'Pra...   \n",
       "2  {'username': 'parmarmaninder', 'displayname': ...   \n",
       "3  {'username': 'anmoldhaliwal', 'displayname': '...   \n",
       "4  {'username': 'KotiaPreet', 'displayname': 'Pre...   \n",
       "\n",
       "                                            outlinks  \\\n",
       "0  [https://twitter.com/ravisinghka/status/136415...   \n",
       "1                                                 []   \n",
       "2                                                 []   \n",
       "3                     [https://youtu.be/-bUKumwq-J8]   \n",
       "4                                                 []   \n",
       "\n",
       "                 tcooutlinks  replyCount  retweetCount  ...  quoteCount  \\\n",
       "0  [https://t.co/es3kn0IQAF]           0             0  ...           0   \n",
       "1                         []           0             0  ...           0   \n",
       "2                         []           0             0  ...           0   \n",
       "3  [https://t.co/wBPNdJdB0n]           0             0  ...           0   \n",
       "4                         []           0             0  ...           0   \n",
       "\n",
       "        conversationId  lang  \\\n",
       "0  1364506249291784198    en   \n",
       "1  1364506237451313155    en   \n",
       "2  1364506195453767680    pa   \n",
       "3  1364350947099484160    en   \n",
       "4  1364506144002088963   und   \n",
       "\n",
       "                                              source  \\\n",
       "0  <a href=\"http://twitter.com/download/iphone\" r...   \n",
       "1  <a href=\"http://twitter.com/download/android\" ...   \n",
       "2  <a href=\"http://twitter.com/download/android\" ...   \n",
       "3  <a href=\"https://mobile.twitter.com\" rel=\"nofo...   \n",
       "4  <a href=\"http://twitter.com/download/iphone\" r...   \n",
       "\n",
       "                             sourceUrl          sourceLabel  \\\n",
       "0   http://twitter.com/download/iphone   Twitter for iPhone   \n",
       "1  http://twitter.com/download/android  Twitter for Android   \n",
       "2  http://twitter.com/download/android  Twitter for Android   \n",
       "3           https://mobile.twitter.com      Twitter Web App   \n",
       "4   http://twitter.com/download/iphone   Twitter for iPhone   \n",
       "\n",
       "                                               media retweetedTweet  \\\n",
       "0                                               None            NaN   \n",
       "1  [{'thumbnailUrl': 'https://pbs.twimg.com/ext_t...            NaN   \n",
       "2                                               None            NaN   \n",
       "3  [{'thumbnailUrl': 'https://pbs.twimg.com/ext_t...            NaN   \n",
       "4  [{'previewUrl': 'https://pbs.twimg.com/media/E...            NaN   \n",
       "\n",
       "                                         quotedTweet  \\\n",
       "0  {'url': 'https://twitter.com/RaviSinghKA/statu...   \n",
       "1                                               None   \n",
       "2                                               None   \n",
       "3                                               None   \n",
       "4                                               None   \n",
       "\n",
       "                                      mentionedUsers  \n",
       "0  [{'username': 'narendramodi', 'displayname': '...  \n",
       "1  [{'username': 'Kisanektamorcha', 'displayname'...  \n",
       "2                                               None  \n",
       "3  [{'username': 'ReallySwara', 'displayname': 'S...  \n",
       "4                                               None  \n",
       "\n",
       "[5 rows x 21 columns]"
      ]
     },
     "execution_count": 2,
     "metadata": {},
     "output_type": "execute_result"
    }
   ],
   "source": [
    "import pandas as pd\n",
    "\n",
    "# Leer el archivo JSON como líneas separadas\n",
    "df = pd.read_json(file_path, lines=True)\n",
    "\n",
    "# Mostrar las primeras filas\n",
    "df.head()"
   ]
  },
  {
   "cell_type": "markdown",
   "metadata": {
    "jp-MarkdownHeadingCollapsed": true
   },
   "source": [
    "## Instalar memory_profiler"
   ]
  },
  {
   "cell_type": "markdown",
   "metadata": {},
   "source": [
    "Para medir el uso de memoria en JupyterLab vamos usar la herramientas memory_profiler"
   ]
  },
  {
   "cell_type": "code",
   "execution_count": 2,
   "metadata": {},
   "outputs": [
    {
     "name": "stdout",
     "output_type": "stream",
     "text": [
      "Requirement already satisfied: memory-profiler in c:\\users\\ggaeteb\\appdata\\local\\anaconda3\\lib\\site-packages (0.61.0)\n",
      "Requirement already satisfied: psutil in c:\\users\\ggaeteb\\appdata\\local\\anaconda3\\lib\\site-packages (from memory-profiler) (5.9.0)\n"
     ]
    }
   ],
   "source": [
    "# Instalar memory_profiler\n",
    "!pip install memory-profiler\n"
   ]
  },
  {
   "cell_type": "code",
   "execution_count": 3,
   "metadata": {},
   "outputs": [],
   "source": [
    "# Habilitar el uso de %%mprun\n",
    "%load_ext memory_profiler"
   ]
  },
  {
   "cell_type": "code",
   "execution_count": 4,
   "metadata": {},
   "outputs": [
    {
     "name": "stdout",
     "output_type": "stream",
     "text": [
      "Name: memory-profiler\n",
      "Version: 0.61.0\n",
      "Summary: A module for monitoring memory usage of a python program\n",
      "Home-page: https://github.com/pythonprofilers/memory_profiler\n",
      "Author: Fabian Pedregosa\n",
      "Author-email: f@bianp.net\n",
      "License: BSD\n",
      "Location: C:\\Users\\ggaeteb\\AppData\\Local\\anaconda3\\Lib\\site-packages\n",
      "Requires: psutil\n",
      "Required-by: \n"
     ]
    }
   ],
   "source": [
    "# version memory-profiler (debe ser 0.61.0)\n",
    "!pip show memory-profiler"
   ]
  },
  {
   "cell_type": "markdown",
   "metadata": {},
   "source": [
    "# 1. Las top 10 fechas donde hay más tweets.\n"
   ]
  },
  {
   "cell_type": "markdown",
   "metadata": {},
   "source": [
    "**Ejecución funcion q1_time que optimiza tiempo de ejecución.**"
   ]
  },
  {
   "cell_type": "code",
   "execution_count": 26,
   "metadata": {},
   "outputs": [
    {
     "name": "stdout",
     "output_type": "stream",
     "text": [
      "Fecha: 2021-02-12, Usuario más activo: RanbirS00614606\n",
      "Fecha: 2021-02-13, Usuario más activo: MaanDee08215437\n",
      "Fecha: 2021-02-17, Usuario más activo: RaaJVinderkaur\n",
      "Fecha: 2021-02-16, Usuario más activo: jot__b\n",
      "Fecha: 2021-02-14, Usuario más activo: rebelpacifist\n",
      "Fecha: 2021-02-18, Usuario más activo: neetuanjle_nitu\n",
      "Fecha: 2021-02-15, Usuario más activo: jot__b\n",
      "Fecha: 2021-02-20, Usuario más activo: MangalJ23056160\n",
      "Fecha: 2021-02-23, Usuario más activo: Surrypuria\n",
      "Fecha: 2021-02-19, Usuario más activo: Preetm91\n"
     ]
    }
   ],
   "source": [
    "from q1_time import q1_time\n",
    "top_users_by_date = q1_time(file_path)\n",
    "\n",
    "# Imprimir resultados\n",
    "for date, user in top_users_by_date:\n",
    "    print(f\"Fecha: {date}, Usuario más activo: {user}\")"
   ]
  },
  {
   "cell_type": "markdown",
   "metadata": {},
   "source": [
    "**Mide tiempo de ejecución función q1_time**"
   ]
  },
  {
   "cell_type": "code",
   "execution_count": 11,
   "metadata": {},
   "outputs": [
    {
     "name": "stdout",
     "output_type": "stream",
     "text": [
      "\n",
      "\n",
      "Tiempo de ejecucion funcion q1_time:\n",
      "CPU times: total: 7 s\n",
      "Wall time: 6.99 s\n"
     ]
    }
   ],
   "source": [
    "%%time\n",
    "# Mide Tiempo de ejecucion funcion q1_time\n",
    "from q1_time import q1_time\n",
    "\n",
    "top_users_by_date = q1_time(file_path)\n",
    "\n",
    "print(\"\\n\\nTiempo de ejecucion funcion q1_time:\")"
   ]
  },
  {
   "cell_type": "markdown",
   "metadata": {},
   "source": [
    "**Ejecución función q1_memory que Optimiza memoria en uso.**"
   ]
  },
  {
   "cell_type": "code",
   "execution_count": 29,
   "metadata": {},
   "outputs": [
    {
     "name": "stdout",
     "output_type": "stream",
     "text": [
      "Fecha: 2021-02-12, Usuario más activo: RanbirS00614606\n",
      "Fecha: 2021-02-13, Usuario más activo: MaanDee08215437\n",
      "Fecha: 2021-02-14, Usuario más activo: rebelpacifist\n",
      "Fecha: 2021-02-15, Usuario más activo: jot__b\n",
      "Fecha: 2021-02-16, Usuario más activo: jot__b\n",
      "Fecha: 2021-02-17, Usuario más activo: RaaJVinderkaur\n",
      "Fecha: 2021-02-18, Usuario más activo: neetuanjle_nitu\n",
      "Fecha: 2021-02-19, Usuario más activo: Preetm91\n",
      "Fecha: 2021-02-20, Usuario más activo: MangalJ23056160\n",
      "Fecha: 2021-02-23, Usuario más activo: Surrypuria\n"
     ]
    }
   ],
   "source": [
    "from q1_memory import q1_memory\n",
    "top_users_by_date = q1_memory(file_path)\n",
    "\n",
    "# Imprimir resultados\n",
    "for date, user in top_users_by_date:\n",
    "    print(f\"Fecha: {date}, Usuario más activo: {user}\")\n",
    "# obs : resultado difiere en orden de función anterior, porque esta ordenado por fecha, pero en definitiva son los mismos datos"
   ]
  },
  {
   "cell_type": "markdown",
   "metadata": {},
   "source": [
    "**Mide uso de memoria de la función q1_memory**"
   ]
  },
  {
   "cell_type": "code",
   "execution_count": 28,
   "metadata": {},
   "outputs": [
    {
     "name": "stdout",
     "output_type": "stream",
     "text": [
      "\n"
     ]
    },
    {
     "data": {
      "text/plain": [
       "Filename: C:\\Users\\ggaeteb\\latam\\q1_memory.py\n",
       "\n",
       "Line #    Mem usage    Increment  Occurrences   Line Contents\n",
       "=============================================================\n",
       "     5    643.7 MiB    643.7 MiB           1   def q1_memory(file_path: str) -> List[Tuple[datetime.date, str]]:\n",
       "     6    643.7 MiB      0.0 MiB           1       chunk_size = 100_000  # Tamaño del chunk para leer datos por partes\n",
       "     7    643.7 MiB      0.0 MiB           1       user_date_counts = []\n",
       "     8                                         \n",
       "     9                                             # Leer el archivo JSON por partes\n",
       "    10   1606.1 MiB    902.0 MiB           3       for chunk in pd.read_json(file_path, lines=True, chunksize=chunk_size):\n",
       "    11                                                 # convierte 'date' a fecha y extrae el 'username' en el chunk\n",
       "    12   1609.3 MiB    -23.9 MiB           2           chunk['date'] = pd.to_datetime(chunk['date']).dt.date\n",
       "    13   1609.3 MiB -1049889.8 MiB      234816           chunk['username'] = chunk['user'].apply(lambda user: user['username'])\n",
       "    14                                                 \n",
       "    15                                                 # Contar tweets por usuario y fecha en el chunk\n",
       "    16   1609.3 MiB    -30.1 MiB           2           counts = chunk.groupby(['date', 'username']).size().reset_index(name='tweet_count')\n",
       "    17   1609.3 MiB    -30.2 MiB           2           user_date_counts.append(counts)\n",
       "    18                                         \n",
       "    19                                             # Combinar resultados de todos los chunks\n",
       "    20   1579.1 MiB    -27.0 MiB           1       combined_counts = pd.concat(user_date_counts, ignore_index=True)\n",
       "    21                                         \n",
       "    22                                             # Obtiene las 10 fechas con más tweets\n",
       "    23   1579.1 MiB      0.0 MiB           1       top_dates = (\n",
       "    24   1579.1 MiB      0.0 MiB           1           combined_counts.groupby('date')['tweet_count']\n",
       "    25   1579.1 MiB      0.0 MiB           1           .sum()\n",
       "    26   1579.1 MiB      0.0 MiB           1           .nlargest(10)\n",
       "    27   1579.1 MiB      0.0 MiB           1           .index\n",
       "    28                                             )\n",
       "    29                                         \n",
       "    30                                             # Filtrar por las principales fechas\n",
       "    31   1579.2 MiB      0.0 MiB           1       filtered_counts = combined_counts[combined_counts['date'].isin(top_dates)]\n",
       "    32                                         \n",
       "    33                                             # Agrupar por fecha y encontrar el usuario más activo por fecha\n",
       "    34   1579.3 MiB      0.0 MiB           1       result = (\n",
       "    35   1579.2 MiB      0.0 MiB           1           filtered_counts.groupby('date')\n",
       "    36   1579.3 MiB      0.1 MiB          21           .apply(lambda group: group.loc[group['tweet_count'].idxmax(), 'username'])\n",
       "    37   1579.3 MiB      0.0 MiB           1           .reset_index(name='top_user')\n",
       "    38                                             )\n",
       "    39                                         \n",
       "    40                                             # Convertir resultado a lista de tuplas\n",
       "    41   1579.3 MiB      0.0 MiB           1       return list(result.itertuples(index=False, name=None))"
      ]
     },
     "metadata": {},
     "output_type": "display_data"
    }
   ],
   "source": [
    "from q1_memory import q1_memory\n",
    "\n",
    "# Medir uso de memoria de la función q1_memory\n",
    "%mprun -f q1_memory q1_memory(file_path)"
   ]
  },
  {
   "cell_type": "markdown",
   "metadata": {
    "jp-MarkdownHeadingCollapsed": true
   },
   "source": [
    "# 2. Los top 10 emojis más usados"
   ]
  },
  {
   "cell_type": "markdown",
   "metadata": {},
   "source": [
    "**Ejecución funcion q2_time que optimiza tiempo de ejecución.**"
   ]
  },
  {
   "cell_type": "code",
   "execution_count": 15,
   "metadata": {},
   "outputs": [
    {
     "name": "stdout",
     "output_type": "stream",
     "text": [
      "Los 10 emojis más usados son:\n",
      "🙏: 1933\n",
      "❤: 1397\n",
      "🌾: 520\n",
      "💚: 492\n",
      "😂: 488\n",
      "👍: 458\n",
      "👉: 450\n",
      "✊: 424\n",
      "🇮🇳: 399\n",
      "🙏🙏: 391\n"
     ]
    }
   ],
   "source": [
    "from q2_time import q2_time\n",
    "\n",
    "top_emojis = q2_time(file_path)\n",
    "\n",
    "# Mostrar los 10 emojis más usados\n",
    "print(\"Los 10 emojis más usados son:\")\n",
    "for emoji, count in top_emojis:\n",
    "    print(f'{emoji}: {count}')\n",
    "\n",
    "\n"
   ]
  },
  {
   "cell_type": "markdown",
   "metadata": {},
   "source": [
    "**Mide tiempo de ejecución función q2_time**"
   ]
  },
  {
   "cell_type": "code",
   "execution_count": 16,
   "metadata": {},
   "outputs": [
    {
     "name": "stdout",
     "output_type": "stream",
     "text": [
      "\n",
      "\n",
      "Tiempo de ejecucion funcion q2_time:\n",
      "CPU times: total: 8.56 s\n",
      "Wall time: 8.56 s\n"
     ]
    }
   ],
   "source": [
    "%%time\n",
    "# Mide Tiempo de ejecucion funcion q2_time\n",
    "from q2_time import q2_time\n",
    "\n",
    "top_users_by_date = q2_time(file_path)\n",
    "\n",
    "print(\"\\n\\nTiempo de ejecucion funcion q2_time:\")"
   ]
  },
  {
   "cell_type": "markdown",
   "metadata": {},
   "source": [
    "**Ejecución función q2_memory que Optimiza memoria en uso.**"
   ]
  },
  {
   "cell_type": "code",
   "execution_count": 17,
   "metadata": {},
   "outputs": [
    {
     "name": "stdout",
     "output_type": "stream",
     "text": [
      "Emoji: 🙏, Usado: 1933 veces\n",
      "Emoji: ❤, Usado: 1397 veces\n",
      "Emoji: 🌾, Usado: 520 veces\n",
      "Emoji: 💚, Usado: 492 veces\n",
      "Emoji: 😂, Usado: 488 veces\n",
      "Emoji: 👍, Usado: 458 veces\n",
      "Emoji: 👉, Usado: 450 veces\n",
      "Emoji: ✊, Usado: 424 veces\n",
      "Emoji: 🇮🇳, Usado: 399 veces\n",
      "Emoji: 🙏🙏, Usado: 391 veces\n"
     ]
    }
   ],
   "source": [
    "from q2_memory import q2_memory\n",
    "result = q2_memory(file_path)\n",
    "\n",
    "for emoji, count in result:\n",
    "    print(f\"Emoji: {emoji}, Usado: {count} veces\")"
   ]
  },
  {
   "cell_type": "markdown",
   "metadata": {},
   "source": [
    "**Mide uso de memoria de la función q2_memory**"
   ]
  },
  {
   "cell_type": "code",
   "execution_count": 18,
   "metadata": {},
   "outputs": [
    {
     "name": "stdout",
     "output_type": "stream",
     "text": [
      "\n"
     ]
    },
    {
     "data": {
      "text/plain": [
       "Filename: C:\\Users\\ggaeteb\\latam\\q2_memory.py\n",
       "\n",
       "Line #    Mem usage    Increment  Occurrences   Line Contents\n",
       "=============================================================\n",
       "    24    483.9 MiB    483.9 MiB           1   def q2_memory(file_path: str) -> List[Tuple[str, int]]:\n",
       "    25                                             \"\"\"Obtiene los 10 emojis más usados y su cantidad.\"\"\"\n",
       "    26    483.9 MiB      0.0 MiB           1       chunk_size = 100_000  # Procesa en bloques\n",
       "    27    483.9 MiB      0.0 MiB           1       emoji_counter = Counter()  # Contador de emojis\n",
       "    28                                         \n",
       "    29                                             # Lee el archivo JSON por partes\n",
       "    30   1520.8 MiB    952.2 MiB           3       for chunk in pd.read_json(file_path, lines=True, chunksize=chunk_size):\n",
       "    31                                                 # Extraer emojis de los textos y contar\n",
       "    32   1521.3 MiB    -41.4 MiB           2           chunk_emojis = chunk['content'].apply(extract_emojis)  # 'content' contiene los tweets\n",
       "    33   1521.3 MiB -737392.0 MiB      117409           for emojis in chunk_emojis:\n",
       "    34   1521.3 MiB -737349.6 MiB      117407               emoji_counter.update(emojis)  # Actualiza el contador con los emojis encontrados\n",
       "    35                                         \n",
       "    36                                             # Obtener los 10 emojis más usados\n",
       "    37   1478.9 MiB    -41.9 MiB           1       top_emojis = emoji_counter.most_common(10)\n",
       "    38   1478.9 MiB      0.0 MiB           1       return top_emojis"
      ]
     },
     "metadata": {},
     "output_type": "display_data"
    }
   ],
   "source": [
    "from q2_memory import q2_memory\n",
    "\n",
    "# Medir uso de memoria de la función q1_memory\n",
    "%mprun -f q2_memory q2_memory(file_path)"
   ]
  },
  {
   "cell_type": "markdown",
   "metadata": {
    "jp-MarkdownHeadingCollapsed": true
   },
   "source": [
    "# 3. El top 10 histórico de usuarios (username) más influyentes"
   ]
  },
  {
   "cell_type": "markdown",
   "metadata": {},
   "source": [
    "**Ejecución función q3_time que optimiza tiempo de ejecución.**"
   ]
  },
  {
   "cell_type": "code",
   "execution_count": 21,
   "metadata": {},
   "outputs": [
    {
     "name": "stdout",
     "output_type": "stream",
     "text": [
      "Top 10 usuarios más mencionados:\n",
      "narendramodi: 2261\n",
      "Kisanektamorcha: 1836\n",
      "RakeshTikaitBKU: 1639\n",
      "PMOIndia: 1422\n",
      "RahulGandhi: 1125\n",
      "GretaThunberg: 1046\n",
      "RaviSinghKA: 1015\n",
      "rihanna: 972\n",
      "UNHumanRights: 962\n",
      "meenaharris: 925\n"
     ]
    }
   ],
   "source": [
    "from q3_time import q3_time\n",
    "\n",
    "top_mentions = q3_time(file_path)\n",
    "\n",
    "# Mostrar los 10 usuarios más mencionados\n",
    "print(\"Top 10 usuarios más mencionados:\")\n",
    "for username, count in top_mentions:\n",
    "    print(f'{username}: {count}')"
   ]
  },
  {
   "cell_type": "markdown",
   "metadata": {},
   "source": [
    "**Mide tiempo de ejecución función q3_time**"
   ]
  },
  {
   "cell_type": "code",
   "execution_count": 22,
   "metadata": {},
   "outputs": [
    {
     "name": "stdout",
     "output_type": "stream",
     "text": [
      "\n",
      "\n",
      "Tiempo de ejecucion funcion q3_time:\n",
      "CPU times: total: 8.36 s\n",
      "Wall time: 8.37 s\n"
     ]
    }
   ],
   "source": [
    "%%time\n",
    "# Mide Tiempo de ejecucion funcion q3_time\n",
    "from q3_time import q3_time\n",
    "\n",
    "top_users_by_date = q3_time(file_path)\n",
    "\n",
    "print(\"\\n\\nTiempo de ejecucion funcion q3_time:\")"
   ]
  },
  {
   "cell_type": "markdown",
   "metadata": {},
   "source": [
    "**Ejecución función q3_memory que Optimiza memoria en uso.**"
   ]
  },
  {
   "cell_type": "code",
   "execution_count": 23,
   "metadata": {},
   "outputs": [
    {
     "name": "stdout",
     "output_type": "stream",
     "text": [
      "Top 10 usuarios más mencionados:\n",
      "narendramodi: 2261\n",
      "Kisanektamorcha: 1836\n",
      "RakeshTikaitBKU: 1639\n",
      "PMOIndia: 1422\n",
      "RahulGandhi: 1125\n",
      "GretaThunberg: 1046\n",
      "RaviSinghKA: 1015\n",
      "rihanna: 972\n",
      "UNHumanRights: 962\n",
      "meenaharris: 925\n"
     ]
    }
   ],
   "source": [
    "from q3_memory import q3_memory\n",
    "\n",
    "top_mentions = q3_memory(file_path)\n",
    "\n",
    "# Mostrar los 10 usuarios más mencionados\n",
    "print(\"Top 10 usuarios más mencionados:\")\n",
    "for username, count in top_mentions:\n",
    "    print(f'{username}: {count}')"
   ]
  },
  {
   "cell_type": "markdown",
   "metadata": {},
   "source": [
    "**Mide uso de memoria de la función q3_memory**"
   ]
  },
  {
   "cell_type": "code",
   "execution_count": 25,
   "metadata": {},
   "outputs": [
    {
     "name": "stdout",
     "output_type": "stream",
     "text": [
      "\n"
     ]
    },
    {
     "data": {
      "text/plain": [
       "Filename: C:\\Users\\ggaeteb\\latam\\q3_memory.py\n",
       "\n",
       "Line #    Mem usage    Increment  Occurrences   Line Contents\n",
       "=============================================================\n",
       "    13    561.4 MiB    561.4 MiB           1   def q3_memory(file_path: str, chunk_size: int = 100000) -> List[Tuple[str, int]]:\n",
       "    14                                             \"\"\"Obtiene el top 10 de usuarios más mencionados procesando por chunks.\"\"\"\n",
       "    15    561.4 MiB      0.0 MiB           1       mention_counter = Counter()  # Contador global para las menciones\n",
       "    16                                         \n",
       "    17                                             # Lee el archivo JSON en bloques para procesar por partes\n",
       "    18   1574.2 MiB   1045.8 MiB           3       for chunk in pd.read_json(file_path, lines=True, chunksize=chunk_size):\n",
       "    19                                                 # Extraer menciones directamente en el DataFrame\n",
       "    20   1575.4 MiB   -935.5 MiB           2           mentions_series = chunk['content'].dropna().map(extract_mentions)  # Evitar procesar valores NaN\n",
       "    21                                         \n",
       "    22                                                 # Contar menciones en el chunk sin crear nuevas estructuras innecesarias\n",
       "    23   1575.4 MiB -43765574.1 MiB      325545           chunk_counter = Counter(mention for mentions in mentions_series for mention in mentions)\n",
       "    24   1575.4 MiB   -937.7 MiB           2           mention_counter.update(chunk_counter)  # Actualizar el contador global con el del chunk\n",
       "    25                                         \n",
       "    26                                                 # Liberar memoria usada por el chunk explícitamente\n",
       "    27    602.2 MiB  -1948.6 MiB           2           del chunk, mentions_series, chunk_counter\n",
       "    28                                         \n",
       "    29                                             # Obtener los 10 usuarios más mencionados\n",
       "    30    599.9 MiB   -974.3 MiB           1       top_mentions = mention_counter.most_common(10)\n",
       "    31                                         \n",
       "    32    599.9 MiB      0.0 MiB           1       return top_mentions"
      ]
     },
     "metadata": {},
     "output_type": "display_data"
    }
   ],
   "source": [
    "from q3_memory import q3_memory\n",
    "\n",
    "# Medir memoria del uso de la función\n",
    "%mprun -f q3_memory q3_memory(file_path)"
   ]
  },
  {
   "cell_type": "code",
   "execution_count": null,
   "metadata": {},
   "outputs": [],
   "source": []
  }
 ],
 "metadata": {
  "kernelspec": {
   "display_name": "Python 3 (ipykernel)",
   "language": "python",
   "name": "python3"
  },
  "language_info": {
   "codemirror_mode": {
    "name": "ipython",
    "version": 3
   },
   "file_extension": ".py",
   "mimetype": "text/x-python",
   "name": "python",
   "nbconvert_exporter": "python",
   "pygments_lexer": "ipython3",
   "version": "3.12.7"
  }
 },
 "nbformat": 4,
 "nbformat_minor": 4
}
